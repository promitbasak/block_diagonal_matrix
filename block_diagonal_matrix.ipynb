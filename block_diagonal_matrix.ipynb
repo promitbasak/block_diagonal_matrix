{
 "cells": [
  {
   "cell_type": "code",
   "execution_count": 373,
   "metadata": {},
   "outputs": [],
   "source": [
    "import numpy as np\n",
    "from pprint import PrettyPrinter\n",
    "\n",
    "class BlockDiagonalMatrix:\n",
    "    def __init__(self, blocks: np.ndarray) -> None:\n",
    "        \"\"\"\n",
    "        Initialize the Block Diagonal Matrix.\n",
    "        \n",
    "        :param blocks: 2D NumPy array where each element is a NumPy array representing \n",
    "                       the diagonal elements of a diagonal block.\n",
    "        \"\"\"\n",
    "        self.blocks = blocks\n",
    "        self.n = self.blocks.shape[0]  # Number of blocks along one dimension\n",
    "        self.d = self.blocks.shape[2]  # Size of each block (assuming non-empty blocks)\n",
    "    \n",
    "    def numpy(self) -> np.ndarray:\n",
    "        \"\"\"\n",
    "        Convert the block diagonal matrix into a NumPy array representation.\n",
    "        This method constructs the full matrix from the block diagonal representation and \n",
    "        returns it as a NumPy array. \n",
    "\n",
    "        :return: A NumPy array representing the full sparse matrix.\n",
    "        \"\"\"\n",
    "        # Initialize a full matrix of zeros with the appropriate size\n",
    "        full_matrix = np.zeros((self.n * self.d, self.n * self.d))\n",
    "\n",
    "        # Fill in the diagonal blocks\n",
    "        for i in range(self.n):\n",
    "            for j in range(self.n):\n",
    "                if np.any(self.blocks[i, j] != 0):  # Only process non-zero blocks\n",
    "                    np.fill_diagonal(\n",
    "                        full_matrix[i * self.d:(i + 1) * self.d, j * self.d:(j + 1) * self.d],\n",
    "                        self.blocks[i, j]\n",
    "                    )\n",
    "\n",
    "        return full_matrix\n",
    "    \n",
    "    def __str__(self) -> str:\n",
    "        \"\"\"\n",
    "        Constructs the full matrix from the block diagonal representation and\n",
    "        returns its string representation. It fills in the diagonal blocks and converts the \n",
    "        full matrix into a string format.\n",
    "\n",
    "        :return: A string representation of the full matrix.\n",
    "        \"\"\"\n",
    "        return str(self.numpy())\n",
    "    \n",
    "    def _repr_pretty_(self, p: \"PrettyPrinter\", cycle: bool) -> None:\n",
    "        \"\"\"\n",
    "        Provides a more readable representation of the matrix when used in Jupyter\n",
    "        notebooks. It helps to visualize the block diagonal matrix in a user-friendly format.\n",
    "\n",
    "        :param p: The PrettyPrinter object.\n",
    "        :param cycle: Flag to indicate if there is a cycle in the object graph.\n",
    "        \"\"\"\n",
    "        p.text(str(self) if not cycle else \"...\")\n",
    "\n",
    "\n",
    "    def __add__(self, other: \"BlockDiagonalMatrix\") -> \"BlockDiagonalMatrix\":\n",
    "        \"\"\"        \n",
    "        This method adds two block diagonal matrices element-wise. The result is a new\n",
    "        BlockDiagonalMatrix where each block is the sum of the corresponding blocks in \n",
    "        the input matrices. It overloads the `+` operator.\n",
    "\n",
    "        :param other: Another BlockDiagonalMatrix to add.\n",
    "        :return: The sum as a new BlockDiagonalMatrix.\n",
    "        \"\"\"\n",
    "        assert self.blocks.shape == other.blocks.shape, \"Matrices must have the same dimensions.\"\n",
    "        result_blocks = self.blocks + other.blocks\n",
    "        return BlockDiagonalMatrix(result_blocks)\n",
    "\n",
    "    def __sub__(self, other: \"BlockDiagonalMatrix\") -> \"BlockDiagonalMatrix\":\n",
    "        \"\"\"        \n",
    "        This method subtracts two block diagonal matrices element-wise. The result is a new\n",
    "        BlockDiagonalMatrix where each block is the sum of the corresponding blocks in \n",
    "        the input matrices. It overloads the `+` operator.\n",
    "\n",
    "        :param other: Another BlockDiagonalMatrix to add.\n",
    "        :return: The subtraction result as a new BlockDiagonalMatrix.\n",
    "        \"\"\"\n",
    "        assert self.blocks.shape == other.blocks.shape, \"Matrices must have the same dimensions.\"\n",
    "        result_blocks = self.blocks - other.blocks\n",
    "        return BlockDiagonalMatrix(result_blocks)\n",
    "    \n",
    "    def __mul__(self, other: \"BlockDiagonalMatrix\") -> \"BlockDiagonalMatrix\":\n",
    "        \"\"\"       \n",
    "        This method performs dot product between corresponding blocks\n",
    "        of the two block diagonal matrices. The result is a new BlockDiagonalMatrix where\n",
    "        each block is the element-wise product of the corresponding blocks in the input matrices.\n",
    "        It overloads the `*` operator.\n",
    "\n",
    "        :param other: Another BlockDiagonalMatrix to multiply.\n",
    "        :return: The product as a new BlockDiagonalMatrix.\n",
    "        \"\"\"\n",
    "        assert self.n == other.n and self.d == other.d, \"Matrices must have the same dimensions.\"\n",
    "        result_blocks = self.blocks * other.blocks\n",
    "        return BlockDiagonalMatrix(result_blocks)\n",
    "\n",
    "    def __matmul__(self, other: \"BlockDiagonalMatrix\") -> \"BlockDiagonalMatrix\":\n",
    "        \"\"\"\n",
    "        This method performs matrix multiplication by leveraging broadcasting and vectorized operations.\n",
    "        It computes the result by multiplying corresponding blocks and summing over the common dimension.\n",
    "        The resulting BlockDiagonalMatrix contains the product of the two input matrices in block diagonal form.\n",
    "        It overloads the `@` operator.\n",
    "\n",
    "        :param other: Another BlockDiagonalMatrix to multiply.\n",
    "        :return: The product as a new BlockDiagonalMatrix.\n",
    "        \"\"\"\n",
    "        assert self.n == other.n and self.d == other.d, \"Matrices must have the same dimensions.\"\n",
    "\n",
    "        # Expand dimensions to enable broadcasting\n",
    "        left_blocks = self.blocks[:, :, np.newaxis, :]\n",
    "        right_blocks = other.blocks[np.newaxis, :, :, :]\n",
    "\n",
    "        # Element-wise multiplication and sum along the k-axis\n",
    "        result_blocks = np.sum(left_blocks * right_blocks, axis=1)\n",
    "\n",
    "        return BlockDiagonalMatrix(result_blocks)\n",
    "\n",
    "    def inverse(self) -> \"BlockDiagonalMatrix\":\n",
    "        \"\"\"\n",
    "        Efficiently compute the inverse of a Block Diagonal Matrix in divide and conquer method.\n",
    "        In case of a singular matrix, it raises an exception.\n",
    "        \n",
    "        :return: The inverse as a new BlockDiagonalMatrix.\n",
    "        \"\"\"\n",
    "        inverse_blocks = np.zeros(self.blocks.shape)\n",
    "        \n",
    "        for i in range(self.d):\n",
    "            sub_arr = self.blocks[:, :, i]\n",
    "            try:\n",
    "                sub_arr_inv = np.linalg.inv(sub_arr)\n",
    "            except np.linalg.LinAlgError as e:\n",
    "                raise Exception(\"Matrix is singular and cannot be inverted.\")\n",
    "            inverse_blocks[:, :, i] = sub_arr_inv\n",
    "        \n",
    "        return BlockDiagonalMatrix(inverse_blocks)\n"
   ]
  },
  {
   "cell_type": "code",
   "execution_count": 399,
   "metadata": {},
   "outputs": [
    {
     "name": "stdout",
     "output_type": "stream",
     "text": [
      "Matrix addition: True\n",
      "Matrix subtraction:  True\n",
      "Dot product:  True\n",
      "Matrix multiplication:  True\n",
      "Matrix inversion:  True\n"
     ]
    }
   ],
   "source": [
    "# Example usage\n",
    "blocks_A = np.array([\n",
    "    [[1, 2], [3, 4], [1, 0]],\n",
    "    [[1, 0], [5, 6], [1, 0]],\n",
    "    [[0, 0], [1, 1], [7, 8]]\n",
    "])\n",
    "blocks_B = np.array([\n",
    "    [[2, 3], [0, 2], [1, 0]],\n",
    "    [[1, 0], [4, 5], [1, 0]],\n",
    "    [[1,3], [1, 0], [6, 7]]\n",
    "])\n",
    "\n",
    "A = BlockDiagonalMatrix(blocks_A)\n",
    "B = BlockDiagonalMatrix(blocks_B)\n",
    "\n",
    "# Add matrices\n",
    "print(\"Matrix addition:\", end=\" \")\n",
    "print(((A + B).numpy() == (A.numpy() + B.numpy())).all())\n",
    "\n",
    "# Subtract matrices\n",
    "print(\"Matrix subtraction: \", end=\" \")\n",
    "print(((A - B).numpy() == (A.numpy() - B.numpy())).all())\n",
    "\n",
    "# Dot product\n",
    "print(\"Dot product: \", end=\" \")\n",
    "print(((A * B).numpy() == (A.numpy() * B.numpy())).all())\n",
    "\n",
    "# Multiply matrices\n",
    "print(\"Matrix multiplication: \", end=\" \")\n",
    "print(((A @ B).numpy() == (A.numpy() @ B.numpy())).all())\n",
    "\n",
    "# Invert\n",
    "print(\"Matrix inversion: \", end=\" \")\n",
    "print((A.inverse().numpy() == np.linalg.inv(A.numpy())).all())"
   ]
  },
  {
   "cell_type": "code",
   "execution_count": 355,
   "metadata": {},
   "outputs": [],
   "source": [
    "X = BlockDiagonalMatrix(np.random.randint(0, 9, (15,15,11)))\n",
    "Y = BlockDiagonalMatrix(np.random.randint(0, 9, (15,15,11)))\n",
    "\n",
    "x = X.numpy()\n",
    "y = Y.numpy()\n"
   ]
  },
  {
   "cell_type": "code",
   "execution_count": 380,
   "metadata": {},
   "outputs": [
    {
     "name": "stdout",
     "output_type": "stream",
     "text": [
      "The slowest run took 6.71 times longer than the fastest. This could mean that an intermediate result is being cached.\n",
      "8.64 μs ± 6.32 μs per loop (mean ± std. dev. of 7 runs, 20 loops each)\n",
      "24.5 μs ± 7.64 μs per loop (mean ± std. dev. of 7 runs, 20 loops each)\n"
     ]
    }
   ],
   "source": [
    "%timeit -n20 X + Y\n",
    "%timeit -n20 x + y\n"
   ]
  },
  {
   "cell_type": "code",
   "execution_count": 398,
   "metadata": {},
   "outputs": [
    {
     "name": "stdout",
     "output_type": "stream",
     "text": [
      "The slowest run took 10.73 times longer than the fastest. This could mean that an intermediate result is being cached.\n",
      "7.98 μs ± 11.1 μs per loop (mean ± std. dev. of 7 runs, 20 loops each)\n",
      "21.8 μs ± 8.17 μs per loop (mean ± std. dev. of 7 runs, 20 loops each)\n"
     ]
    }
   ],
   "source": [
    "%timeit -n20 X + Y\n",
    "%timeit -n20 x - y\n"
   ]
  },
  {
   "cell_type": "code",
   "execution_count": 382,
   "metadata": {},
   "outputs": [
    {
     "name": "stdout",
     "output_type": "stream",
     "text": [
      "16.8 μs ± 9.72 μs per loop (mean ± std. dev. of 7 runs, 20 loops each)\n",
      "30.2 μs ± 6.28 μs per loop (mean ± std. dev. of 7 runs, 20 loops each)\n"
     ]
    }
   ],
   "source": [
    "%timeit -n20 X * Y\n",
    "%timeit -n20 x * y\n"
   ]
  },
  {
   "cell_type": "code",
   "execution_count": 392,
   "metadata": {},
   "outputs": [
    {
     "name": "stdout",
     "output_type": "stream",
     "text": [
      "190 μs ± 53.4 μs per loop (mean ± std. dev. of 7 runs, 20 loops each)\n",
      "333 μs ± 92.6 μs per loop (mean ± std. dev. of 7 runs, 20 loops each)\n"
     ]
    }
   ],
   "source": [
    "%timeit -n20 X @ Y\n",
    "%timeit -n20 x @ y\n"
   ]
  },
  {
   "cell_type": "code",
   "execution_count": 379,
   "metadata": {},
   "outputs": [
    {
     "name": "stdout",
     "output_type": "stream",
     "text": [
      "1.29 ms ± 233 μs per loop (mean ± std. dev. of 7 runs, 20 loops each)\n",
      "110 ms ± 18.5 ms per loop (mean ± std. dev. of 7 runs, 20 loops each)\n"
     ]
    }
   ],
   "source": [
    "%timeit -n20 X.inverse()\n",
    "%timeit -n20 np.linalg.inv(x)\n"
   ]
  },
  {
   "cell_type": "code",
   "execution_count": null,
   "metadata": {},
   "outputs": [],
   "source": []
  }
 ],
 "metadata": {
  "kernelspec": {
   "display_name": "venv",
   "language": "python",
   "name": "python3"
  },
  "language_info": {
   "codemirror_mode": {
    "name": "ipython",
    "version": 3
   },
   "file_extension": ".py",
   "mimetype": "text/x-python",
   "name": "python",
   "nbconvert_exporter": "python",
   "pygments_lexer": "ipython3",
   "version": "3.12.1"
  }
 },
 "nbformat": 4,
 "nbformat_minor": 2
}
